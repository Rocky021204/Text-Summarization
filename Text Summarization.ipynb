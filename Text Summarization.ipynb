{
 "cells": [
  {
   "cell_type": "markdown",
   "id": "0ac4c710-f3de-4421-97e0-7c1a5daf5eec",
   "metadata": {},
   "source": [
    "# Importing all required libraries"
   ]
  },
  {
   "cell_type": "code",
   "execution_count": 1,
   "id": "0c9a3f63-37fa-40c4-b624-dece0b613b42",
   "metadata": {},
   "outputs": [],
   "source": [
    "import pandas as pd\n",
    "import numpy as np\n",
    "import nltk\n",
    "import heapq\n",
    "from nltk.tokenize import sent_tokenize\n",
    "from sklearn.feature_extraction.text import TfidfVectorizer\n",
    "from sklearn.metrics.pairwise import cosine_similarity\n",
    "from transformers import pipeline\n",
    "import matplotlib.pyplot as plt"
   ]
  },
  {
   "cell_type": "markdown",
   "id": "0303ecbf-5a10-4edf-ac3e-1b403fadb254",
   "metadata": {},
   "source": [
    "# Loading and previewing of dataset"
   ]
  },
  {
   "cell_type": "code",
   "execution_count": 2,
   "id": "5d301e4e-27ad-45c4-b422-3f3f37ff5586",
   "metadata": {},
   "outputs": [],
   "source": [
    "df=pd.read_csv(r\"C:\\Users\\asus\\OneDrive\\Desktop\\Proxenix\\news_summary.csv\", encoding='latin1')\n",
    "df=df[['ctext', 'headlines']].dropna().reset_index(drop=True)"
   ]
  },
  {
   "cell_type": "code",
   "execution_count": 3,
   "id": "01f18585-9c85-42a2-8744-a2444fe48ebc",
   "metadata": {},
   "outputs": [
    {
     "name": "stdout",
     "output_type": "stream",
     "text": [
      "Dataset Loaded:\n"
     ]
    },
    {
     "data": {
      "text/html": [
       "<div>\n",
       "<style scoped>\n",
       "    .dataframe tbody tr th:only-of-type {\n",
       "        vertical-align: middle;\n",
       "    }\n",
       "\n",
       "    .dataframe tbody tr th {\n",
       "        vertical-align: top;\n",
       "    }\n",
       "\n",
       "    .dataframe thead th {\n",
       "        text-align: right;\n",
       "    }\n",
       "</style>\n",
       "<table border=\"1\" class=\"dataframe\">\n",
       "  <thead>\n",
       "    <tr style=\"text-align: right;\">\n",
       "      <th></th>\n",
       "      <th>ctext</th>\n",
       "      <th>headlines</th>\n",
       "    </tr>\n",
       "  </thead>\n",
       "  <tbody>\n",
       "    <tr>\n",
       "      <th>0</th>\n",
       "      <td>The Daman and Diu administration on Wednesday ...</td>\n",
       "      <td>Daman &amp; Diu revokes mandatory Rakshabandhan in...</td>\n",
       "    </tr>\n",
       "    <tr>\n",
       "      <th>1</th>\n",
       "      <td>From her special numbers to TV?appearances, Bo...</td>\n",
       "      <td>Malaika slams user who trolled her for 'divorc...</td>\n",
       "    </tr>\n",
       "  </tbody>\n",
       "</table>\n",
       "</div>"
      ],
      "text/plain": [
       "                                               ctext  \\\n",
       "0  The Daman and Diu administration on Wednesday ...   \n",
       "1  From her special numbers to TV?appearances, Bo...   \n",
       "\n",
       "                                           headlines  \n",
       "0  Daman & Diu revokes mandatory Rakshabandhan in...  \n",
       "1  Malaika slams user who trolled her for 'divorc...  "
      ]
     },
     "metadata": {},
     "output_type": "display_data"
    }
   ],
   "source": [
    "print(\"Dataset Loaded:\")\n",
    "display(df.head(2))"
   ]
  },
  {
   "cell_type": "markdown",
   "id": "52f7ace7-fe13-4aac-8448-4aaa71bafbb3",
   "metadata": {},
   "source": [
    "# Selecting a sample article and its human-written summary"
   ]
  },
  {
   "cell_type": "code",
   "execution_count": 4,
   "id": "8fde54bf-9b47-40d9-8ff5-708a62f30f5e",
   "metadata": {},
   "outputs": [
    {
     "name": "stdout",
     "output_type": "stream",
     "text": [
      "Original Article:\n",
      " The Daman and Diu administration on Wednesday withdrew a circular that asked women staff to tie rakhis on male colleagues after the order triggered a backlash from employees and was ripped apart on social media.The union territory?s administration was forced to retreat within 24 hours of issuing the circular that made it compulsory for its staff to celebrate Rakshabandhan at workplace.?It has been decided to celebrate the festival of Rakshabandhan on August 7. In this connection, all offices/ departments shall remain open and celebrate the festival collectively at a suitable time wherein all the lady staff shall tie rakhis to their colleagues,? the order, issued on August 1 by Gurpreet Singh, deputy secretary (personnel), had said.To ensure that no one skipped office, an attendance report was to be sent to the government the next evening.The two notifications ? one mandating the celebration of Rakshabandhan (left) and the other withdrawing the mandate (right) ? were issued by the Daman and Diu administration a day apart. The circular was withdrawn through a one-line order issued late in the evening by the UT?s department of personnel and administrative reforms.?The circular is ridiculous. There are sensitivities involved. How can the government dictate who I should tie rakhi to? We should maintain the professionalism of a workplace? an official told Hindustan Times earlier in the day. She refused to be identified.The notice was issued on Daman and Diu administrator and former Gujarat home minister Praful Kodabhai Patel?s direction, sources said.Rakshabandhan, a celebration of the bond between brothers and sisters, is one of several Hindu festivities and rituals that are no longer confined of private, family affairs but have become tools to push politic al ideologies.In 2014, the year BJP stormed to power at the Centre, Rashtriya Swayamsevak Sangh (RSS) chief Mohan Bhagwat said the festival had ?national significance? and should be celebrated widely ?to protect Hindu culture and live by the values enshrined in it?. The RSS is the ideological parent of the ruling BJP.Last year, women ministers in the Modi government went to the border areas to celebrate the festival with soldiers. A year before, all cabinet ministers were asked to go to their constituencies for the festival.\n",
      "\n",
      "Human Summary:\n",
      " Daman & Diu revokes mandatory Rakshabandhan in offices order\n"
     ]
    }
   ],
   "source": [
    "article=df['ctext'][0]\n",
    "human_summary=df['headlines'][0]       \n",
    "print(\"Original Article:\\n\", article)\n",
    "print(\"\\nHuman Summary:\\n\", human_summary)"
   ]
  },
  {
   "cell_type": "markdown",
   "id": "97b1f952-581f-44d0-ba6a-5d0d0395c936",
   "metadata": {},
   "source": [
    "# Extractive summarization using TF-IDF and generating extractive summary and display"
   ]
  },
  {
   "cell_type": "code",
   "execution_count": 5,
   "id": "6f97cdd2-92f6-495d-a9f5-9f6ccc62a79f",
   "metadata": {},
   "outputs": [
    {
     "name": "stdout",
     "output_type": "stream",
     "text": [
      "\n",
      "Extractive Summary:\n",
      " The Daman and Diu administration on Wednesday withdrew a circular that asked women staff to tie rakhis on male colleagues after the order triggered a backlash from employees and was ripped apart on social media.The union territory?s administration was forced to retreat within 24 hours of issuing the circular that made it compulsory for its staff to celebrate Rakshabandhan at workplace. The RSS is the ideological parent of the ruling BJP.Last year, women ministers in the Modi government went to the border areas to celebrate the festival with soldiers.\n"
     ]
    }
   ],
   "source": [
    "def extractive_summary(text, num_sentences=2):\n",
    "    sentences=sent_tokenize(text)\n",
    "    if len(sentences)<=num_sentences:\n",
    "        return text  \n",
    "    vectorizer=TfidfVectorizer()\n",
    "    tfidf_matrix=vectorizer.fit_transform(sentences)\n",
    "    similarity=cosine_similarity(tfidf_matrix, tfidf_matrix)\n",
    "    sentence_scores=similarity.sum(axis=1)\n",
    "    top_n=heapq.nlargest(num_sentences, range(len(sentence_scores)), sentence_scores.take)\n",
    "    summary=' '.join([sentences[i] for i in sorted(top_n)])\n",
    "    return summary\n",
    "extractive=extractive_summary(article, num_sentences=2)\n",
    "print(\"\\nExtractive Summary:\\n\", extractive)"
   ]
  },
  {
   "cell_type": "markdown",
   "id": "fc697f65-6eb4-4015-b4a7-600d0b27e689",
   "metadata": {},
   "source": [
    "# Abstractive summarization using T5 (Transformers) and displaying abstractive summary"
   ]
  },
  {
   "cell_type": "code",
   "execution_count": 6,
   "id": "edda4d4f-1610-4702-9693-bda41842e073",
   "metadata": {},
   "outputs": [
    {
     "name": "stdout",
     "output_type": "stream",
     "text": [
      "\n",
      "Abstractive Summary:\n",
      " the daman and Diu administration withdrew a circular that asked women staff to tie rakhis on male colleagues . the order triggered a backlash from employees and was ripped apart on social media .\n"
     ]
    }
   ],
   "source": [
    "from transformers import pipeline\n",
    "import transformers\n",
    "transformers.logging.set_verbosity_error()\n",
    "summarizer=pipeline(\"summarization\", model=\"t5-small\", framework=\"pt\", device=-1)\n",
    "limited_text=article[:1000]\n",
    "abstractive_output=summarizer(limited_text, max_length=60, min_length=20, do_sample=False)\n",
    "abstractive=abstractive_output[0]['summary_text']\n",
    "print(\"\\nAbstractive Summary:\\n\", abstractive)"
   ]
  },
  {
   "cell_type": "markdown",
   "id": "f29c4c0b-ea4e-487e-b23b-eaab2743c5fa",
   "metadata": {},
   "source": [
    "# Word count comparison"
   ]
  },
  {
   "cell_type": "code",
   "execution_count": 7,
   "id": "568f4618-1a2f-408a-b359-f4ddd215b9de",
   "metadata": {},
   "outputs": [
    {
     "name": "stdout",
     "output_type": "stream",
     "text": [
      "Summary Length Comparison (Word Count):\n",
      "Original Text: 364 words\n",
      "Human Summary: 9 words\n",
      "Extractive Summary: 89 words\n",
      "Abstractive Summary: 34 words\n"
     ]
    }
   ],
   "source": [
    "print(\"Summary Length Comparison (Word Count):\")\n",
    "print(\"Original Text:\", len(article.split()), \"words\")\n",
    "print(\"Human Summary:\", len(human_summary.split()), \"words\")\n",
    "print(\"Extractive Summary:\", len(extractive.split()), \"words\")\n",
    "print(\"Abstractive Summary:\", len(abstractive.split()), \"words\")"
   ]
  },
  {
   "cell_type": "markdown",
   "id": "743b3d87-bba7-44bc-a122-15b6e3c3b8c0",
   "metadata": {},
   "source": [
    "# Word count bar graph"
   ]
  },
  {
   "cell_type": "code",
   "execution_count": 8,
   "id": "e51f5559-f72e-4f1b-bb9b-088fe4769fc0",
   "metadata": {},
   "outputs": [
    {
     "data": {
      "image/png": "[encoded data removed]",
      "text/plain": [
       "<Figure size 1000x500 with 1 Axes>"
      ]
     },
     "metadata": {},
     "output_type": "display_data"
    }
   ],
   "source": [
    "labels=['Original', 'Human', 'Extractive', 'Abstractive']\n",
    "lengths=[len(article.split()), len(human_summary.split()), len(extractive.split()), len(abstractive.split())]\n",
    "plt.figure(figsize=(10,5))\n",
    "plt.bar(labels, lengths, color=['blue', 'green', 'orange', 'red'])\n",
    "plt.title(\"Word Count Comparison\")\n",
    "plt.ylabel(\"Number of Words\")\n",
    "plt.grid(axis='y', linestyle=' ', alpha=0.6)\n",
    "plt.show()"
   ]
  },
  {
   "cell_type": "markdown",
   "id": "f48bea91-ff2d-488b-b90f-dd213d9339bb",
   "metadata": {},
   "source": [
    "# Conclusion"
   ]
  },
  {
   "cell_type": "raw",
   "id": "31f1c5d1-e307-4c31-952d-74d9b6b26600",
   "metadata": {},
   "source": [
    "This project demonstrates both extractive and abstractive summarization on real news data. Using T5 from HuggingFace, we generate coherent, human-like summaries and evaluate performance using word count and visual comparison."
   ]
  }
 ],
 "metadata": {
  "kernelspec": {
   "display_name": "Python [conda env:base] *",
   "language": "python",
   "name": "conda-base-py"
  },
  "language_info": {
   "codemirror_mode": {
    "name": "ipython",
    "version": 3
   },
   "file_extension": ".py",
   "mimetype": "text/x-python",
   "name": "python",
   "nbconvert_exporter": "python",
   "pygments_lexer": "ipython3",
   "version": "3.11.7"
  }
 },
 "nbformat": 4,
 "nbformat_minor": 5
}
